{
 "cells": [
  {
   "cell_type": "code",
   "execution_count": 1,
   "metadata": {},
   "outputs": [],
   "source": [
    "import matplotlib as mpl\n",
    "import matplotlib.pyplot as plt\n",
    "import numpy as np\n",
    "%matplotlib inline\n",
    "plt.style.use('fast')"
   ]
  },
  {
   "cell_type": "markdown",
   "metadata": {},
   "source": [
    "## Data Collection\n",
    "Get the up to date data for Covid-19 in the province of Ontario"
   ]
  },
  {
   "cell_type": "code",
   "execution_count": 2,
   "metadata": {},
   "outputs": [
    {
     "name": "stdout",
     "output_type": "stream",
     "text": [
      "number of data points: 556435\n"
     ]
    }
   ],
   "source": [
    "import urllib.request\n",
    "import json\n",
    "\n",
    "url = 'https://data.ontario.ca/api/3/action/datastore_search?resource_id=455fd63b-603d-4608-8216-7d8647f43350&limit=750000'  \n",
    "\n",
    "with urllib.request.urlopen(url) as url:\n",
    "    result = json.loads(url.read())\n",
    "    data = result['result']['records']\n",
    "\n",
    "print(\"number of data points:\", len(data))"
   ]
  },
  {
   "cell_type": "markdown",
   "metadata": {},
   "source": [
    "If needed, get the data from a local csv...\n",
    "```python\n",
    "import csv\n",
    "with open('./data/conposcovidloc.csv', 'r') as fh:\n",
    "    data = [l for l in csv.DictReader(fh)]\n",
    "```"
   ]
  },
  {
   "cell_type": "markdown",
   "metadata": {},
   "source": [
    "## Ontario Data Interpretation\n",
    "Interpret the data for the entire province of Ontario."
   ]
  },
  {
   "cell_type": "code",
   "execution_count": 3,
   "metadata": {},
   "outputs": [],
   "source": [
    "fatalities = dict()\n",
    "case_count = dict()\n",
    "\n",
    "fatalities['total'] = 0\n",
    "case_count['total'] = 0\n",
    "\n",
    "for case in data:\n",
    "    age_group = case['Age_Group']\n",
    "    if case['Outcome1'] == 'Fatal':\n",
    "        fatalities['total'] += 1\n",
    "        if age_group in fatalities.keys():\n",
    "            fatalities[age_group] += 1\n",
    "        else:\n",
    "            fatalities[age_group] = 1\n",
    "    if age_group in case_count.keys():\n",
    "        case_count[age_group] += 1\n",
    "    else:\n",
    "        case_count[age_group] = 1\n",
    "    case_count['total'] += 1"
   ]
  },
  {
   "cell_type": "code",
   "execution_count": 4,
   "metadata": {},
   "outputs": [
    {
     "data": {
      "image/png": "[encoded data removed]",
      "text/plain": [
       "<Figure size 432x288 with 1 Axes>"
      ]
     },
     "metadata": {
      "needs_background": "light"
     },
     "output_type": "display_data"
    }
   ],
   "source": [
    "# Build a graph from the interpretted Ontario data\n",
    "ages = sorted(case_count.keys())[:-2]\n",
    "ages = [ages[-1]] + ages[:-1]\n",
    "x = np.arange(len(ages))  # the label locations\n",
    "\n",
    "ax = plt.subplot()\n",
    "w = 0.4 # bar width\n",
    "ax.bar(x+(w/2), [fatalities[d] for d in ages], width=w, align='center', label='Fatalities')\n",
    "ax.bar(x-(w/2), [case_count[d] for d in ages], width=w, align='center', label='Cases')\n",
    "\n",
    "ax.set_ylabel('Number Of People')\n",
    "ax.set_xlabel('Age Group')\n",
    "ax.set_title('Cases & Fatalities by Age Group in Ontario')\n",
    "ax.legend()\n",
    "ax.set_xticks(x)\n",
    "ax.set_xticklabels(ages)\n",
    "ax.autoscale(tight=True)\n",
    "\n",
    "plt.show()"
   ]
  },
  {
   "cell_type": "code",
   "execution_count": 5,
   "metadata": {
    "scrolled": true
   },
   "outputs": [
    {
     "name": "stdout",
     "output_type": "stream",
     "text": [
      "Fatality % By Age Group in Ontario\n",
      "\n",
      "<20 5 / 90493 = 0.0055252892488921795 %\n",
      "20s 28 / 118215 = 0.023685657488474388 %\n",
      "30s 62 / 90904 = 0.06820381941388717 %\n",
      "40s 149 / 79635 = 0.1871036604508068 %\n",
      "50s 468 / 78389 = 0.5970225414280065 %\n",
      "60s 1105 / 49020 = 2.2541819665442677 %\n",
      "70s 1941 / 24392 = 7.957527058051821 %\n",
      "80s 3191 / 16628 = 19.19052201106567 %\n",
      "90+ 2478 / 8660 = 28.61431870669746 %\n",
      "ttl 9428 / 556435 = 1.6943578315526522 %\n"
     ]
    }
   ],
   "source": [
    "print(\"Fatality % By Age Group in Ontario\")\n",
    "print()\n",
    "for k in ages:\n",
    "    print(k, fatalities[k], '/', case_count[k], '=', fatalities[k]/case_count[k]*100, \"%\")\n",
    "print(\"ttl\", fatalities['total'], '/', case_count['total'], '=', fatalities['total']/case_count['total']*100, \"%\")"
   ]
  },
  {
   "cell_type": "markdown",
   "metadata": {},
   "source": [
    "## Hamilton Data Interpretation\n",
    "Interpret the data for the Hamilton Public Health Unit"
   ]
  },
  {
   "cell_type": "code",
   "execution_count": 6,
   "metadata": {},
   "outputs": [],
   "source": [
    "hamilton = [r for r in data if r['Reporting_PHU'] == 'Hamilton Public Health Services']\n",
    "\n",
    "hamilton_fatalities = dict()\n",
    "hamilton_case_count = dict()\n",
    "\n",
    "hamilton_fatalities['total'] = 0\n",
    "hamilton_case_count['total'] = 0\n",
    "\n",
    "for case in hamilton:\n",
    "    age_group = case['Age_Group']\n",
    "    if case['Outcome1'] == 'Fatal':\n",
    "        hamilton_fatalities['total'] += 1\n",
    "        if age_group in hamilton_fatalities.keys():\n",
    "            hamilton_fatalities[age_group] += 1\n",
    "        else:\n",
    "            hamilton_fatalities[age_group] = 1\n",
    "    if age_group in hamilton_case_count.keys():\n",
    "        hamilton_case_count[age_group] += 1\n",
    "    else:\n",
    "        hamilton_case_count[age_group] = 1\n",
    "    hamilton_case_count['total'] += 1"
   ]
  },
  {
   "cell_type": "code",
   "execution_count": 7,
   "metadata": {},
   "outputs": [
    {
     "data": {
      "image/png": "[encoded data removed]",
      "text/plain": [
       "<Figure size 432x288 with 1 Axes>"
      ]
     },
     "metadata": {
      "needs_background": "light"
     },
     "output_type": "display_data"
    }
   ],
   "source": [
    "# Build a graph from the interpretted Ontario data\n",
    "ages = sorted(case_count.keys())[:-2]\n",
    "ages = [ages[-1]] + ages[:-1]\n",
    "x = np.arange(len(ages))  # the label locations\n",
    "\n",
    "ax = plt.subplot()\n",
    "w = 0.4 # bar width\n",
    "ax.bar(x+(w/2), [hamilton_fatalities[d] if d in hamilton_fatalities else 0 for d in ages], width=w, align='center', label='Fatalities')\n",
    "ax.bar(x-(w/2), [hamilton_case_count[d] for d in ages], width=w, align='center', label='Cases')\n",
    "\n",
    "ax.set_ylabel('Number Of People')\n",
    "ax.set_xlabel('Age Group')\n",
    "ax.set_title('Cases & Fatalities by Age Group in Hamilton')\n",
    "ax.legend()\n",
    "\n",
    "ax.set_xticks(x)\n",
    "ax.set_xticklabels(ages)\n",
    "ax.autoscale(tight=True)\n",
    "\n",
    "plt.show()"
   ]
  },
  {
   "cell_type": "code",
   "execution_count": 8,
   "metadata": {
    "scrolled": true
   },
   "outputs": [
    {
     "name": "stdout",
     "output_type": "stream",
     "text": [
      "Fatality % By Age Group in Hamilton\n",
      "\n",
      "<20 0 / 4009 = 0.0 %\n",
      "20s 0 / 4703 = 0.0 %\n",
      "30s 3 / 3393 = 0.08841732979664013 %\n",
      "40s 3 / 2918 = 0.1028101439342015 %\n",
      "50s 12 / 2953 = 0.4063664070436844 %\n",
      "60s 52 / 1952 = 2.663934426229508 %\n",
      "70s 81 / 1015 = 7.980295566502463 %\n",
      "80s 142 / 775 = 18.322580645161292 %\n",
      "90+ 111 / 428 = 25.934579439252335 %\n",
      "ttl 404 / 22146 = 1.8242572022035584 %\n"
     ]
    }
   ],
   "source": [
    "print(\"Fatality % By Age Group in Hamilton\")\n",
    "print()\n",
    "for k in ages:\n",
    "    if k in hamilton_fatalities:\n",
    "        fatals = hamilton_fatalities[k]\n",
    "    else:\n",
    "        fatals = 0\n",
    "    print(k, fatals, '/', hamilton_case_count[k], '=', fatals/hamilton_case_count[k]*100, \"%\")\n",
    "print(\"ttl\", hamilton_fatalities['total'], '/', hamilton_case_count['total'], '=', hamilton_fatalities['total']/hamilton_case_count['total']*100, \"%\")"
   ]
  }
 ],
 "metadata": {
  "kernelspec": {
   "display_name": "Python 3",
   "language": "python",
   "name": "python3"
  },
  "language_info": {
   "codemirror_mode": {
    "name": "ipython",
    "version": 3
   },
   "file_extension": ".py",
   "mimetype": "text/x-python",
   "name": "python",
   "nbconvert_exporter": "python",
   "pygments_lexer": "ipython3",
   "version": "3.9.1"
  }
 },
 "nbformat": 4,
 "nbformat_minor": 4
}
